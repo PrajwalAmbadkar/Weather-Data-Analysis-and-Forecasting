{
 "cells": [
  {
   "cell_type": "markdown",
   "metadata": {
    "application/vnd.databricks.v1+cell": {
     "cellMetadata": {},
     "inputWidgets": {},
     "nuid": "96816ed7-b08a-4ca3-abb9-f99880c3535d",
     "showTitle": false,
     "title": ""
    }
   },
   "source": [
    "\n",
    "## Overview\n",
    "\n",
    "This notebook will show you how to create and query a table or DataFrame that you uploaded to DBFS. [DBFS](https://docs.databricks.com/user-guide/dbfs-databricks-file-system.html) is a Databricks File System that allows you to store data for querying inside of Databricks. This notebook assumes that you have a file already inside of DBFS that you would like to read from.\n",
    "\n",
    "This notebook is written in **Python** so the default cell type is Python. However, you can use different languages by using the `%LANGUAGE` syntax. Python, Scala, SQL, and R are all supported."
   ]
  },
  {
   "cell_type": "code",
   "execution_count": 158,
   "metadata": {},
   "outputs": [],
   "source": [
    "# Intialization\n",
    "import os\n",
    "import sys\n",
    "\n",
    "os.environ[\"SPARK_HOME\"] = \"/home/talentum/spark\"\n",
    "os.environ[\"PYLIB\"] = os.environ[\"SPARK_HOME\"] + \"/python/lib\"\n",
    "# In below two lines, use /usr/bin/python2.7 if you want to use Python 2\n",
    "os.environ[\"PYSPARK_PYTHON\"] = \"/usr/bin/python3.6\" \n",
    "os.environ[\"PYSPARK_DRIVER_PYTHON\"] = \"/usr/bin/python3\"\n",
    "sys.path.insert(0, os.environ[\"PYLIB\"] +\"/py4j-0.10.7-src.zip\")\n",
    "sys.path.insert(0, os.environ[\"PYLIB\"] +\"/pyspark.zip\")\n",
    "\n",
    "# NOTE: Whichever package you want mention here.\n",
    "# os.environ['PYSPARK_SUBMIT_ARGS'] = '--packages com.databricks:spark-xml_2.11:0.6.0 pyspark-shell' \n",
    "# os.environ['PYSPARK_SUBMIT_ARGS'] = '--packages org.apache.spark:spark-avro_2.11:2.4.0 pyspark-shell'\n",
    "os.environ['PYSPARK_SUBMIT_ARGS'] = '--packages com.databricks:spark-xml_2.11:0.6.0,org.apache.spark:spark-avro_2.11:2.4.3 pyspark-shell'\n",
    "# os.environ['PYSPARK_SUBMIT_ARGS'] = '--packages com.databricks:spark-xml_2.11:0.6.0,org.apache.spark:spark-avro_2.11:2.4.0 pyspark-shell'"
   ]
  },
  {
   "cell_type": "code",
   "execution_count": 159,
   "metadata": {},
   "outputs": [],
   "source": [
    "#Entrypoint 2.x\n",
    "from pyspark.sql import SparkSession\n",
    "spark = SparkSession.builder.appName(\"Spark SQL basic example\").enableHiveSupport().getOrCreate()\n",
    "\n",
    "# On yarn:\n",
    "# spark = SparkSession.builder.appName(\"Spark SQL basic example\").enableHiveSupport().master(\"yarn\").getOrCreate()\n",
    "# specify .master(\"yarn\")\n",
    "\n",
    "sc = spark.sparkContext"
   ]
  },
  {
   "cell_type": "code",
   "execution_count": 160,
   "metadata": {
    "application/vnd.databricks.v1+cell": {
     "cellMetadata": {
      "byteLimit": 2048000,
      "rowLimit": 10000
     },
     "inputWidgets": {},
     "nuid": "c276b4a7-cf49-4ca8-9725-f456c22b28ba",
     "showTitle": false,
     "title": ""
    }
   },
   "outputs": [],
   "source": [
    "\n",
    "from pyspark.sql.types import IntegerType,StringType,StructField,StructType,DateType,DoubleType\n",
    "\n",
    "schema = StructType([StructField(\"Index\", IntegerType(), True),\n",
    "\tStructField(\"Date\", DateType(), True),\n",
    "\tStructField(\"Time\", StringType(), True),\n",
    "\tStructField(\"Total_Precipitation\", DoubleType(), True),\n",
    "\tStructField(\"Atmospheric_Pressure\", DoubleType(), True),\n",
    "\tStructField(\"Maximum_Atmospheric_Pressure\", DoubleType(), True),\n",
    "\tStructField(\"Minimum_Atmospheric_Pressure\", DoubleType(), True),\n",
    "\tStructField(\"Solar_Radiation\", DoubleType(), True),\n",
    "\tStructField(\"Air_Temperature\", DoubleType(), True),\n",
    "\tStructField(\"Dew_Point_Temperature\", DoubleType(), True),\n",
    "\tStructField(\"Maximum_Temperature_For_The_Last_Hour\", DoubleType(), True),\n",
    "\tStructField(\"Minimum_Temperature_For_The_Last_Hour\", DoubleType(), True),\n",
    "\tStructField(\"Maximum_Air_Pressure_Dew_Point_Temperature_For_The_Last_Hour\", DoubleType(), True),\n",
    "\tStructField(\"Minimum_Air_Pressure_Dew_Point_Temperature_For_The_Last_Hour\", DoubleType(), True),\n",
    "\tStructField(\"Maximum_Relative_Humid_Temperature_For_The_Last_Hour\", DoubleType(), True),\t\n",
    "\tStructField(\"Minimum_Relative_Humid_Temperature_For_The_Last_Hour\", DoubleType(), True),\n",
    "\tStructField(\"Air_Relative_Humid_Temperature_For_The_Last_Hour\", DoubleType(), True),\n",
    "\tStructField(\"Wind_Direction_Radius_Degree\", DoubleType(), True),\n",
    "\tStructField(\"Wind_Gust_In_Metres_Per_Second\", DoubleType(), True),\n",
    "\tStructField(\"Wind_speed_In_Metres_Per_Second\", DoubleType(), True),\n",
    "    StructField(\"Region\", StringType(), True),\n",
    "\tStructField(\"State\", StringType(), True),\n",
    "\tStructField(\"Station_Name\", StringType(), True),\n",
    "\tStructField(\"Station_Code\", StringType(), True),\n",
    "\tStructField(\"Latitude\", DoubleType(), True),\n",
    "\tStructField(\"Longitude\", DoubleType(), True),\n",
    "\tStructField(\"Elevation\", DoubleType(), True)\n",
    "\t])"
   ]
  },
  {
   "cell_type": "code",
   "execution_count": 161,
   "metadata": {
    "application/vnd.databricks.v1+cell": {
     "cellMetadata": {
      "byteLimit": 2048000,
      "rowLimit": 10000
     },
     "inputWidgets": {},
     "nuid": "ad33b00c-036b-45a7-9497-c35fb5dc4d23",
     "showTitle": false,
     "title": ""
    }
   },
   "outputs": [],
   "source": [
    "file_location = \"file:///home/talentum/shared/CDAC_Project_Weather_Anaysis/central_west.csv\"\n",
    "df1 = spark.read.csv(file_location,header=True,schema=schema)"
   ]
  },
  {
   "cell_type": "code",
   "execution_count": 162,
   "metadata": {
    "application/vnd.databricks.v1+cell": {
     "cellMetadata": {
      "byteLimit": 2048000,
      "rowLimit": 10000
     },
     "inputWidgets": {},
     "nuid": "39ff074d-58eb-4e67-a349-e80e223ebb3d",
     "showTitle": false,
     "title": ""
    }
   },
   "outputs": [
    {
     "name": "stdout",
     "output_type": "stream",
     "text": [
      "+------+----------+-----+-------------------+--------------------+----------------------------+----------------------------+---------------+---------------+---------------------+-------------------------------------+-------------------------------------+------------------------------------------------------------+------------------------------------------------------------+----------------------------------------------------+----------------------------------------------------+------------------------------------------------+----------------------------+------------------------------+-------------------------------+------+-----+------------------+------------+------------+---------+---------+\n",
      "| Index|      Date| Time|Total_Precipitation|Atmospheric_Pressure|Maximum_Atmospheric_Pressure|Minimum_Atmospheric_Pressure|Solar_Radiation|Air_Temperature|Dew_Point_Temperature|Maximum_Temperature_For_The_Last_Hour|Minimum_Temperature_For_The_Last_Hour|Maximum_Air_Pressure_Dew_Point_Temperature_For_The_Last_Hour|Minimum_Air_Pressure_Dew_Point_Temperature_For_The_Last_Hour|Maximum_Relative_Humid_Temperature_For_The_Last_Hour|Minimum_Relative_Humid_Temperature_For_The_Last_Hour|Air_Relative_Humid_Temperature_For_The_Last_Hour|Wind_Direction_Radius_Degree|Wind_Gust_In_Metres_Per_Second|Wind_speed_In_Metres_Per_Second|Region|State|      Station_Name|Station_Code|    Latitude|Longitude|Elevation|\n",
      "+------+----------+-----+-------------------+--------------------+----------------------------+----------------------------+---------------+---------------+---------------------+-------------------------------------+-------------------------------------+------------------------------------------------------------+------------------------------------------------------------+----------------------------------------------------+----------------------------------------------------+------------------------------------------------+----------------------------+------------------------------+-------------------------------+------+-----+------------------+------------+------------+---------+---------+\n",
      "|138998|2017-12-20|14:00|                0.0|               899.6|                       900.0|                       899.6|         3391.0|           26.5|                 17.7|                                 26.5|                                 24.4|                                                        18.3|                                                        16.5|                                                65.0|                                                57.0|                                            59.0|                        39.0|                           9.6|                            3.9|    CO|   DF|PARANOA (COOPA-DF)|        A047|-16.01111111| -47.5575|   1043.0|\n",
      "|138999|2017-12-20|15:00|                0.0|               899.2|                       899.6|                       899.2|         3306.0|           26.6|                 16.7|                                 26.7|                                 25.4|                                                        17.9|                                                        16.0|                                                60.0|                                                52.0|                                            54.0|                        55.0|                           8.3|                            3.4|    CO|   DF|PARANOA (COOPA-DF)|        A047|-16.01111111| -47.5575|   1043.0|\n",
      "|139000|2017-12-20|16:00|                0.0|               898.6|                       899.2|                       898.6|         3167.0|           27.3|                 15.8|                                 27.6|                                 25.9|                                                        17.1|                                                        14.5|                                                56.0|                                                45.0|                                            49.0|                        62.0|                           8.3|                            3.6|    CO|   DF|PARANOA (COOPA-DF)|        A047|-16.01111111| -47.5575|   1043.0|\n",
      "|139001|2017-12-20|17:00|                0.0|               897.7|                       898.6|                       897.7|         3279.0|           27.5|                 12.9|                                 28.5|                                 26.6|                                                        17.6|                                                        12.9|                                                53.0|                                                41.0|                                            41.0|                        43.0|                           6.7|                            3.1|    CO|   DF|PARANOA (COOPA-DF)|        A047|-16.01111111| -47.5575|   1043.0|\n",
      "|139002|2017-12-20|18:00|                0.0|               897.0|                       897.7|                       897.0|         2753.0|           27.5|                 13.7|                                 28.9|                                 27.4|                                                        15.6|                                                        12.4|                                                45.0|                                                39.0|                                            43.0|                        98.0|                           6.4|                            3.5|    CO|   DF|PARANOA (COOPA-DF)|        A047|-16.01111111| -47.5575|   1043.0|\n",
      "+------+----------+-----+-------------------+--------------------+----------------------------+----------------------------+---------------+---------------+---------------------+-------------------------------------+-------------------------------------+------------------------------------------------------------+------------------------------------------------------------+----------------------------------------------------+----------------------------------------------------+------------------------------------------------+----------------------------+------------------------------+-------------------------------+------+-----+------------------+------------+------------+---------+---------+\n",
      "only showing top 5 rows\n",
      "\n"
     ]
    }
   ],
   "source": [
    "df1.show(5)"
   ]
  },
  {
   "cell_type": "code",
   "execution_count": 166,
   "metadata": {},
   "outputs": [
    {
     "name": "stdout",
     "output_type": "stream",
     "text": [
      "+-----+----------+-----+-------------------+--------------------+----------------------------+----------------------------+---------------+---------------+---------------------+-------------------------------------+-------------------------------------+------------------------------------------------------------+------------------------------------------------------------+----------------------------------------------------+----------------------------------------------------+------------------------------------------------+----------------------------+------------------------------+-------------------------------+------+-----+------------+------------+------------+------------+---------+\n",
      "|Index|      Date| Time|Total_Precipitation|Atmospheric_Pressure|Maximum_Atmospheric_Pressure|Minimum_Atmospheric_Pressure|Solar_Radiation|Air_Temperature|Dew_Point_Temperature|Maximum_Temperature_For_The_Last_Hour|Minimum_Temperature_For_The_Last_Hour|Maximum_Air_Pressure_Dew_Point_Temperature_For_The_Last_Hour|Minimum_Air_Pressure_Dew_Point_Temperature_For_The_Last_Hour|Maximum_Relative_Humid_Temperature_For_The_Last_Hour|Minimum_Relative_Humid_Temperature_For_The_Last_Hour|Air_Relative_Humid_Temperature_For_The_Last_Hour|Wind_Direction_Radius_Degree|Wind_Gust_In_Metres_Per_Second|Wind_speed_In_Metres_Per_Second|Region|State|Station_Name|Station_Code|    Latitude|   Longitude|Elevation|\n",
      "+-----+----------+-----+-------------------+--------------------+----------------------------+----------------------------+---------------+---------------+---------------------+-------------------------------------+-------------------------------------+------------------------------------------------------------+------------------------------------------------------------+----------------------------------------------------+----------------------------------------------------+------------------------------------------------+----------------------------+------------------------------+-------------------------------+------+-----+------------+------------+------------+------------+---------+\n",
      "| 3024|2000-09-10|00:00|            -9999.0|             -9999.0|                     -9999.0|                     -9999.0|        -9999.0|        -9999.0|              -9999.0|                              -9999.0|                              -9999.0|                                                     -9999.0|                                                     -9999.0|                                             -9999.0|                                             -9999.0|                                         -9999.0|                     -9999.0|                       -9999.0|                        -9999.0|    CO|   DF|    BRASILIA|        A001|-15.78944444|-47.92583332|  1159.54|\n",
      "| 3025|2000-09-10|01:00|                0.4|               888.8|                       888.9|                       888.4|        -9999.0|           16.9|                 16.0|                                 16.9|                                 16.7|                                                        16.0|                                                        15.6|                                                95.0|                                                92.0|                                            95.0|                       144.0|                           2.6|                            0.2|    CO|   DF|    BRASILIA|        A001|-15.78944444|-47.92583332|  1159.54|\n",
      "| 3026|2000-09-10|02:00|                0.0|               888.7|                       888.8|                       888.6|        -9999.0|           17.2|                 16.1|                                 17.3|                                 16.7|                                                        16.1|                                                        15.6|                                                95.0|                                                91.0|                                            93.0|                        88.0|                           2.4|                            1.2|    CO|   DF|    BRASILIA|        A001|-15.78944444|-47.92583332|  1159.54|\n",
      "| 3027|2000-09-10|03:00|                0.0|               888.4|                       888.8|                       888.4|        -9999.0|           17.3|                 16.3|                                 17.3|                                 16.9|                                                        16.4|                                                        15.9|                                                95.0|                                                93.0|                                            94.0|                       131.0|                           2.2|                            1.0|    CO|   DF|    BRASILIA|        A001|-15.78944444|-47.92583332|  1159.54|\n",
      "| 3028|2000-09-10|04:00|                0.0|               888.0|                       888.3|                       887.9|        -9999.0|           17.0|                 16.4|                                 17.3|                                 16.9|                                                        16.5|                                                        16.1|                                                96.0|                                                94.0|                                            96.0|                       136.0|                           1.7|                            0.2|    CO|   DF|    BRASILIA|        A001|-15.78944444|-47.92583332|  1159.54|\n",
      "+-----+----------+-----+-------------------+--------------------+----------------------------+----------------------------+---------------+---------------+---------------------+-------------------------------------+-------------------------------------+------------------------------------------------------------+------------------------------------------------------------+----------------------------------------------------+----------------------------------------------------+------------------------------------------------+----------------------------+------------------------------+-------------------------------+------+-----+------------+------------+------------+------------+---------+\n",
      "only showing top 5 rows\n",
      "\n"
     ]
    }
   ],
   "source": [
    "df1.filter(df1.Date=='2000-09-10').show(5)"
   ]
  },
  {
   "cell_type": "code",
   "execution_count": 167,
   "metadata": {
    "application/vnd.databricks.v1+cell": {
     "cellMetadata": {
      "byteLimit": 2048000,
      "rowLimit": 10000
     },
     "inputWidgets": {},
     "nuid": "b8542db6-ff22-4cb2-816e-0ce510cc7888",
     "showTitle": false,
     "title": ""
    }
   },
   "outputs": [],
   "source": [
    "#df2 = df1.filter(df1.Station_Name=='MANAUS')\n",
    "#df2 = df1.filter(df1.Station_Name=='PORTO ALEGRE')\n",
    "#df2 = df1.filter(df1.Station_Name=='PORTO ALEGRE')\n",
    "#df2 = df1.filter(df1.Station_Name=='ECOLOGIA AGRICOLA')\n",
    "df2 = df1.filter(df1.Station_Name=='BRASILIA')\n"
   ]
  },
  {
   "cell_type": "code",
   "execution_count": 131,
   "metadata": {
    "application/vnd.databricks.v1+cell": {
     "cellMetadata": {
      "byteLimit": 2048000,
      "rowLimit": 10000
     },
     "inputWidgets": {},
     "nuid": "ab52f8fb-c82d-4315-af79-23be2c0b6e15",
     "showTitle": false,
     "title": ""
    }
   },
   "outputs": [
    {
     "ename": "KeyboardInterrupt",
     "evalue": "",
     "output_type": "error",
     "traceback": [
      "\u001b[0;31m---------------------------------------------------------------------------\u001b[0m",
      "\u001b[0;31mKeyboardInterrupt\u001b[0m                         Traceback (most recent call last)",
      "\u001b[0;32m<ipython-input-131-b9dfcea03f46>\u001b[0m in \u001b[0;36m<module>\u001b[0;34m\u001b[0m\n\u001b[0;32m----> 1\u001b[0;31m \u001b[0mdf2\u001b[0m\u001b[0;34m.\u001b[0m\u001b[0mdescribe\u001b[0m\u001b[0;34m(\u001b[0m\u001b[0;34m)\u001b[0m\u001b[0;34m.\u001b[0m\u001b[0mshow\u001b[0m\u001b[0;34m(\u001b[0m\u001b[0;34m)\u001b[0m\u001b[0;34m\u001b[0m\u001b[0;34m\u001b[0m\u001b[0m\n\u001b[0m",
      "\u001b[0;32m~/spark/python/pyspark/sql/dataframe.py\u001b[0m in \u001b[0;36mdescribe\u001b[0;34m(self, *cols)\u001b[0m\n\u001b[1;32m   1173\u001b[0m         \u001b[0;32mif\u001b[0m \u001b[0mlen\u001b[0m\u001b[0;34m(\u001b[0m\u001b[0mcols\u001b[0m\u001b[0;34m)\u001b[0m \u001b[0;34m==\u001b[0m \u001b[0;36m1\u001b[0m \u001b[0;32mand\u001b[0m \u001b[0misinstance\u001b[0m\u001b[0;34m(\u001b[0m\u001b[0mcols\u001b[0m\u001b[0;34m[\u001b[0m\u001b[0;36m0\u001b[0m\u001b[0;34m]\u001b[0m\u001b[0;34m,\u001b[0m \u001b[0mlist\u001b[0m\u001b[0;34m)\u001b[0m\u001b[0;34m:\u001b[0m\u001b[0;34m\u001b[0m\u001b[0;34m\u001b[0m\u001b[0m\n\u001b[1;32m   1174\u001b[0m             \u001b[0mcols\u001b[0m \u001b[0;34m=\u001b[0m \u001b[0mcols\u001b[0m\u001b[0;34m[\u001b[0m\u001b[0;36m0\u001b[0m\u001b[0;34m]\u001b[0m\u001b[0;34m\u001b[0m\u001b[0;34m\u001b[0m\u001b[0m\n\u001b[0;32m-> 1175\u001b[0;31m         \u001b[0mjdf\u001b[0m \u001b[0;34m=\u001b[0m \u001b[0mself\u001b[0m\u001b[0;34m.\u001b[0m\u001b[0m_jdf\u001b[0m\u001b[0;34m.\u001b[0m\u001b[0mdescribe\u001b[0m\u001b[0;34m(\u001b[0m\u001b[0mself\u001b[0m\u001b[0;34m.\u001b[0m\u001b[0m_jseq\u001b[0m\u001b[0;34m(\u001b[0m\u001b[0mcols\u001b[0m\u001b[0;34m)\u001b[0m\u001b[0;34m)\u001b[0m\u001b[0;34m\u001b[0m\u001b[0;34m\u001b[0m\u001b[0m\n\u001b[0m\u001b[1;32m   1176\u001b[0m         \u001b[0;32mreturn\u001b[0m \u001b[0mDataFrame\u001b[0m\u001b[0;34m(\u001b[0m\u001b[0mjdf\u001b[0m\u001b[0;34m,\u001b[0m \u001b[0mself\u001b[0m\u001b[0;34m.\u001b[0m\u001b[0msql_ctx\u001b[0m\u001b[0;34m)\u001b[0m\u001b[0;34m\u001b[0m\u001b[0;34m\u001b[0m\u001b[0m\n\u001b[1;32m   1177\u001b[0m \u001b[0;34m\u001b[0m\u001b[0m\n",
      "\u001b[0;32m~/spark/python/lib/py4j-0.10.7-src.zip/py4j/java_gateway.py\u001b[0m in \u001b[0;36m__call__\u001b[0;34m(self, *args)\u001b[0m\n\u001b[1;32m   1253\u001b[0m             \u001b[0mproto\u001b[0m\u001b[0;34m.\u001b[0m\u001b[0mEND_COMMAND_PART\u001b[0m\u001b[0;34m\u001b[0m\u001b[0;34m\u001b[0m\u001b[0m\n\u001b[1;32m   1254\u001b[0m \u001b[0;34m\u001b[0m\u001b[0m\n\u001b[0;32m-> 1255\u001b[0;31m         \u001b[0manswer\u001b[0m \u001b[0;34m=\u001b[0m \u001b[0mself\u001b[0m\u001b[0;34m.\u001b[0m\u001b[0mgateway_client\u001b[0m\u001b[0;34m.\u001b[0m\u001b[0msend_command\u001b[0m\u001b[0;34m(\u001b[0m\u001b[0mcommand\u001b[0m\u001b[0;34m)\u001b[0m\u001b[0;34m\u001b[0m\u001b[0;34m\u001b[0m\u001b[0m\n\u001b[0m\u001b[1;32m   1256\u001b[0m         return_value = get_return_value(\n\u001b[1;32m   1257\u001b[0m             answer, self.gateway_client, self.target_id, self.name)\n",
      "\u001b[0;32m~/spark/python/lib/py4j-0.10.7-src.zip/py4j/java_gateway.py\u001b[0m in \u001b[0;36msend_command\u001b[0;34m(self, command, retry, binary)\u001b[0m\n\u001b[1;32m    983\u001b[0m         \u001b[0mconnection\u001b[0m \u001b[0;34m=\u001b[0m \u001b[0mself\u001b[0m\u001b[0;34m.\u001b[0m\u001b[0m_get_connection\u001b[0m\u001b[0;34m(\u001b[0m\u001b[0;34m)\u001b[0m\u001b[0;34m\u001b[0m\u001b[0;34m\u001b[0m\u001b[0m\n\u001b[1;32m    984\u001b[0m         \u001b[0;32mtry\u001b[0m\u001b[0;34m:\u001b[0m\u001b[0;34m\u001b[0m\u001b[0;34m\u001b[0m\u001b[0m\n\u001b[0;32m--> 985\u001b[0;31m             \u001b[0mresponse\u001b[0m \u001b[0;34m=\u001b[0m \u001b[0mconnection\u001b[0m\u001b[0;34m.\u001b[0m\u001b[0msend_command\u001b[0m\u001b[0;34m(\u001b[0m\u001b[0mcommand\u001b[0m\u001b[0;34m)\u001b[0m\u001b[0;34m\u001b[0m\u001b[0;34m\u001b[0m\u001b[0m\n\u001b[0m\u001b[1;32m    986\u001b[0m             \u001b[0;32mif\u001b[0m \u001b[0mbinary\u001b[0m\u001b[0;34m:\u001b[0m\u001b[0;34m\u001b[0m\u001b[0;34m\u001b[0m\u001b[0m\n\u001b[1;32m    987\u001b[0m                 \u001b[0;32mreturn\u001b[0m \u001b[0mresponse\u001b[0m\u001b[0;34m,\u001b[0m \u001b[0mself\u001b[0m\u001b[0;34m.\u001b[0m\u001b[0m_create_connection_guard\u001b[0m\u001b[0;34m(\u001b[0m\u001b[0mconnection\u001b[0m\u001b[0;34m)\u001b[0m\u001b[0;34m\u001b[0m\u001b[0;34m\u001b[0m\u001b[0m\n",
      "\u001b[0;32m~/spark/python/lib/py4j-0.10.7-src.zip/py4j/java_gateway.py\u001b[0m in \u001b[0;36msend_command\u001b[0;34m(self, command)\u001b[0m\n\u001b[1;32m   1150\u001b[0m \u001b[0;34m\u001b[0m\u001b[0m\n\u001b[1;32m   1151\u001b[0m         \u001b[0;32mtry\u001b[0m\u001b[0;34m:\u001b[0m\u001b[0;34m\u001b[0m\u001b[0;34m\u001b[0m\u001b[0m\n\u001b[0;32m-> 1152\u001b[0;31m             \u001b[0manswer\u001b[0m \u001b[0;34m=\u001b[0m \u001b[0msmart_decode\u001b[0m\u001b[0;34m(\u001b[0m\u001b[0mself\u001b[0m\u001b[0;34m.\u001b[0m\u001b[0mstream\u001b[0m\u001b[0;34m.\u001b[0m\u001b[0mreadline\u001b[0m\u001b[0;34m(\u001b[0m\u001b[0;34m)\u001b[0m\u001b[0;34m[\u001b[0m\u001b[0;34m:\u001b[0m\u001b[0;34m-\u001b[0m\u001b[0;36m1\u001b[0m\u001b[0;34m]\u001b[0m\u001b[0;34m)\u001b[0m\u001b[0;34m\u001b[0m\u001b[0;34m\u001b[0m\u001b[0m\n\u001b[0m\u001b[1;32m   1153\u001b[0m             \u001b[0mlogger\u001b[0m\u001b[0;34m.\u001b[0m\u001b[0mdebug\u001b[0m\u001b[0;34m(\u001b[0m\u001b[0;34m\"Answer received: {0}\"\u001b[0m\u001b[0;34m.\u001b[0m\u001b[0mformat\u001b[0m\u001b[0;34m(\u001b[0m\u001b[0manswer\u001b[0m\u001b[0;34m)\u001b[0m\u001b[0;34m)\u001b[0m\u001b[0;34m\u001b[0m\u001b[0;34m\u001b[0m\u001b[0m\n\u001b[1;32m   1154\u001b[0m             \u001b[0;32mif\u001b[0m \u001b[0manswer\u001b[0m\u001b[0;34m.\u001b[0m\u001b[0mstartswith\u001b[0m\u001b[0;34m(\u001b[0m\u001b[0mproto\u001b[0m\u001b[0;34m.\u001b[0m\u001b[0mRETURN_MESSAGE\u001b[0m\u001b[0;34m)\u001b[0m\u001b[0;34m:\u001b[0m\u001b[0;34m\u001b[0m\u001b[0;34m\u001b[0m\u001b[0m\n",
      "\u001b[0;32m/usr/lib/python3.6/socket.py\u001b[0m in \u001b[0;36mreadinto\u001b[0;34m(self, b)\u001b[0m\n\u001b[1;32m    584\u001b[0m         \u001b[0;32mwhile\u001b[0m \u001b[0;32mTrue\u001b[0m\u001b[0;34m:\u001b[0m\u001b[0;34m\u001b[0m\u001b[0;34m\u001b[0m\u001b[0m\n\u001b[1;32m    585\u001b[0m             \u001b[0;32mtry\u001b[0m\u001b[0;34m:\u001b[0m\u001b[0;34m\u001b[0m\u001b[0;34m\u001b[0m\u001b[0m\n\u001b[0;32m--> 586\u001b[0;31m                 \u001b[0;32mreturn\u001b[0m \u001b[0mself\u001b[0m\u001b[0;34m.\u001b[0m\u001b[0m_sock\u001b[0m\u001b[0;34m.\u001b[0m\u001b[0mrecv_into\u001b[0m\u001b[0;34m(\u001b[0m\u001b[0mb\u001b[0m\u001b[0;34m)\u001b[0m\u001b[0;34m\u001b[0m\u001b[0;34m\u001b[0m\u001b[0m\n\u001b[0m\u001b[1;32m    587\u001b[0m             \u001b[0;32mexcept\u001b[0m \u001b[0mtimeout\u001b[0m\u001b[0;34m:\u001b[0m\u001b[0;34m\u001b[0m\u001b[0;34m\u001b[0m\u001b[0m\n\u001b[1;32m    588\u001b[0m                 \u001b[0mself\u001b[0m\u001b[0;34m.\u001b[0m\u001b[0m_timeout_occurred\u001b[0m \u001b[0;34m=\u001b[0m \u001b[0;32mTrue\u001b[0m\u001b[0;34m\u001b[0m\u001b[0;34m\u001b[0m\u001b[0m\n",
      "\u001b[0;31mKeyboardInterrupt\u001b[0m: "
     ]
    }
   ],
   "source": [
    "df2.describe().show()"
   ]
  },
  {
   "cell_type": "code",
   "execution_count": 168,
   "metadata": {
    "application/vnd.databricks.v1+cell": {
     "cellMetadata": {
      "byteLimit": 2048000,
      "rowLimit": 10000
     },
     "inputWidgets": {},
     "nuid": "0fe393a2-38d5-40c4-806a-a0c54c562a4b",
     "showTitle": false,
     "title": ""
    }
   },
   "outputs": [
    {
     "name": "stdout",
     "output_type": "stream",
     "text": [
      "+----------+-----+-------------------+--------------------+---------------+-------------------------------------+-------------------------------------+----------------------------------------------------+----------------------------------------------------+-------------------------------+------+-----+------------+------------+------------+------------+---------+\n",
      "|      Date| Time|Total_Precipitation|Atmospheric_Pressure|Solar_Radiation|Maximum_Temperature_For_The_Last_Hour|Minimum_Temperature_For_The_Last_Hour|Maximum_Relative_Humid_Temperature_For_The_Last_Hour|Minimum_Relative_Humid_Temperature_For_The_Last_Hour|Wind_speed_In_Metres_Per_Second|Region|State|Station_Name|Station_Code|    Latitude|   Longitude|Elevation|\n",
      "+----------+-----+-------------------+--------------------+---------------+-------------------------------------+-------------------------------------+----------------------------------------------------+----------------------------------------------------+-------------------------------+------+-----+------------+------------+------------+------------+---------+\n",
      "|2018-01-01|00:00|                0.0|               887.8|        -9999.0|                                 21.8|                                 21.6|                                                81.0|                                                78.0|                            1.6|    CO|   DF|    BRASILIA|        A001|-15.78944444|-47.92583332|  1159.54|\n",
      "|2018-01-01|01:00|                0.0|               888.2|        -9999.0|                                 21.9|                                 21.5|                                                83.0|                                                78.0|                            1.3|    CO|   DF|    BRASILIA|        A001|-15.78944444|-47.92583332|  1159.54|\n",
      "|2018-01-01|02:00|                0.0|               888.5|        -9999.0|                                 21.8|                                 20.8|                                                83.0|                                                78.0|                            0.4|    CO|   DF|    BRASILIA|        A001|-15.78944444|-47.92583332|  1159.54|\n",
      "|2018-01-01|03:00|                0.0|               888.1|        -9999.0|                                 21.3|                                 20.5|                                                85.0|                                                81.0|                            1.5|    CO|   DF|    BRASILIA|        A001|-15.78944444|-47.92583332|  1159.54|\n",
      "|2018-01-01|04:00|                0.0|               887.4|        -9999.0|                                 21.2|                                 20.7|                                                84.0|                                                81.0|                            1.2|    CO|   DF|    BRASILIA|        A001|-15.78944444|-47.92583332|  1159.54|\n",
      "|2018-01-01|05:00|                0.0|               886.4|        -9999.0|                                 20.9|                                 19.9|                                                88.0|                                                81.0|                            0.9|    CO|   DF|    BRASILIA|        A001|-15.78944444|-47.92583332|  1159.54|\n",
      "|2018-01-01|06:00|                0.0|               886.3|        -9999.0|                                 20.6|                                 19.9|                                                90.0|                                                86.0|                            0.6|    CO|   DF|    BRASILIA|        A001|-15.78944444|-47.92583332|  1159.54|\n",
      "|2018-01-01|07:00|                0.0|               886.5|        -9999.0|                                 20.1|                                 19.8|                                                91.0|                                                89.0|                            0.4|    CO|   DF|    BRASILIA|        A001|-15.78944444|-47.92583332|  1159.54|\n",
      "|2018-01-01|08:00|                0.0|               886.8|        -9999.0|                                 20.4|                                 19.7|                                                91.0|                                                89.0|                            1.4|    CO|   DF|    BRASILIA|        A001|-15.78944444|-47.92583332|  1159.54|\n",
      "|2018-01-01|09:00|                0.0|               887.5|        -9999.0|                                 20.2|                                 19.6|                                                92.0|                                                90.0|                            0.5|    CO|   DF|    BRASILIA|        A001|-15.78944444|-47.92583332|  1159.54|\n",
      "|2018-01-01|10:00|                0.0|               887.9|          146.0|                                 20.5|                                 19.6|                                                93.0|                                                92.0|                            0.2|    CO|   DF|    BRASILIA|        A001|-15.78944444|-47.92583332|  1159.54|\n",
      "|2018-01-01|11:00|                0.0|               888.3|          810.0|                                 22.7|                                 20.5|                                                92.0|                                                78.0|                            0.7|    CO|   DF|    BRASILIA|        A001|-15.78944444|-47.92583332|  1159.54|\n",
      "|2018-01-01|12:00|                0.0|               888.9|          954.0|                                 23.9|                                 22.6|                                                80.0|                                                74.0|                            0.8|    CO|   DF|    BRASILIA|        A001|-15.78944444|-47.92583332|  1159.54|\n",
      "|2018-01-01|13:00|                0.0|               889.0|         1316.0|                                 24.7|                                 23.5|                                                78.0|                                                67.0|                            1.3|    CO|   DF|    BRASILIA|        A001|-15.78944444|-47.92583332|  1159.54|\n",
      "|2018-01-01|14:00|                0.2|               888.4|         2860.0|                                 26.3|                                 24.1|                                                69.0|                                                59.0|                            1.8|    CO|   DF|    BRASILIA|        A001|-15.78944444|-47.92583332|  1159.54|\n",
      "|2018-01-01|15:00|                2.6|               888.0|          824.0|                                 26.0|                                 22.5|                                                83.0|                                                57.0|                            1.7|    CO|   DF|    BRASILIA|        A001|-15.78944444|-47.92583332|  1159.54|\n",
      "|2018-01-01|16:00|                2.6|               886.9|         1634.0|                                 25.2|                                 21.7|                                                88.0|                                                59.0|                            2.0|    CO|   DF|    BRASILIA|        A001|-15.78944444|-47.92583332|  1159.54|\n",
      "|2018-01-01|17:00|                3.6|               886.0|         1017.0|                                 24.5|                                 22.2|                                                82.0|                                                69.0|                            1.4|    CO|   DF|    BRASILIA|        A001|-15.78944444|-47.92583332|  1159.54|\n",
      "|2018-01-01|18:00|                5.0|               885.1|          447.0|                                 22.1|                                 20.3|                                                87.0|                                                80.0|                            1.5|    CO|   DF|    BRASILIA|        A001|-15.78944444|-47.92583332|  1159.54|\n",
      "|2018-01-01|19:00|                2.2|               884.2|          373.0|                                 21.3|                                 20.7|                                                88.0|                                                82.0|                            1.6|    CO|   DF|    BRASILIA|        A001|-15.78944444|-47.92583332|  1159.54|\n",
      "+----------+-----+-------------------+--------------------+---------------+-------------------------------------+-------------------------------------+----------------------------------------------------+----------------------------------------------------+-------------------------------+------+-----+------------+------------+------------+------------+---------+\n",
      "only showing top 20 rows\n",
      "\n"
     ]
    }
   ],
   "source": [
    "df3 = df2.select('Date','Time','Total_Precipitation','Atmospheric_Pressure','Solar_Radiation','Maximum_Temperature_For_The_Last_Hour',\n",
    "'Minimum_Temperature_For_The_Last_Hour',\n",
    "'Maximum_Relative_Humid_Temperature_For_The_Last_Hour',\n",
    "'Minimum_Relative_Humid_Temperature_For_The_Last_Hour',\n",
    "'Wind_speed_In_Metres_Per_Second',\n",
    "'Region','State','Station_Name','Station_Code','Latitude','Longitude','Elevation')\n",
    "\n",
    "df3.show()"
   ]
  },
  {
   "cell_type": "code",
   "execution_count": 169,
   "metadata": {},
   "outputs": [
    {
     "data": {
      "text/plain": [
       "91120"
      ]
     },
     "execution_count": 169,
     "metadata": {},
     "output_type": "execute_result"
    }
   ],
   "source": [
    "df4 = df3.filter((df3.Total_Precipitation>=0) & (df3.Atmospheric_Pressure>=100) & (df3.Atmospheric_Pressure<=1050) & (df3.Solar_Radiation>=0) & (df3.Maximum_Temperature_For_The_Last_Hour>-273) & (df3.Maximum_Temperature_For_The_Last_Hour<135) & (df3.Minimum_Temperature_For_The_Last_Hour>-273) &(df3.Minimum_Temperature_For_The_Last_Hour<135) & (df3.Maximum_Relative_Humid_Temperature_For_The_Last_Hour>=0) & (df3.Maximum_Relative_Humid_Temperature_For_The_Last_Hour<=100) & (df3.Minimum_Relative_Humid_Temperature_For_The_Last_Hour>=0) & (df3.Minimum_Relative_Humid_Temperature_For_The_Last_Hour<=100) & (df3.Wind_speed_In_Metres_Per_Second<=150) & (df3.Wind_speed_In_Metres_Per_Second>=0) )\n",
    "\n",
    "df4.count()"
   ]
  },
  {
   "cell_type": "code",
   "execution_count": 80,
   "metadata": {
    "application/vnd.databricks.v1+cell": {
     "cellMetadata": {
      "byteLimit": 2048000,
      "rowLimit": 10000
     },
     "inputWidgets": {},
     "nuid": "d9f43d56-b78d-4615-9eb6-85b3c9a21627",
     "showTitle": false,
     "title": ""
    }
   },
   "outputs": [
    {
     "name": "stdout",
     "output_type": "stream",
     "text": [
      "+-------+-----+-------------------+--------------------+------------------+-------------------------------------+-------------------------------------+----------------------------------------------------+----------------------------------------------------+-------------------------------+------+-----+------------+------------+--------------------+--------------------+-----------------+\n",
      "|summary| Time|Total_Precipitation|Atmospheric_Pressure|   Solar_Radiation|Maximum_Temperature_For_The_Last_Hour|Minimum_Temperature_For_The_Last_Hour|Maximum_Relative_Humid_Temperature_For_The_Last_Hour|Minimum_Relative_Humid_Temperature_For_The_Last_Hour|Wind_speed_In_Metres_Per_Second|Region|State|Station_Name|Station_Code|            Latitude|           Longitude|        Elevation|\n",
      "+-------+-----+-------------------+--------------------+------------------+-------------------------------------+-------------------------------------+----------------------------------------------------+----------------------------------------------------+-------------------------------+------+-----+------------+------------+--------------------+--------------------+-----------------+\n",
      "|  count|84812|              84812|               84812|             84812|                                84812|                                84812|                                               84812|                                               84812|                          84812| 84812|84812|       84812|       84812|               84812|               84812|            84812|\n",
      "|   mean| null| 0.3209734471537039|  1004.3923241994063|1156.9087747016931|                    29.31865419987743|                    27.99043885299257|                                   75.30939018063482|                                   68.39674810168373|             1.6342911380464977|  null| null|        null|        null| -3.1033969286894587| -60.016198086222055|58.39724001320453|\n",
      "| stddev| null|  2.193978959056054|  3.0450193044855585| 1062.507703858648|                   3.0761170500071224|                     2.85108490879938|                                   14.17653309679808|                                  15.142601461463668|             0.8527905173306943|  null| null|        null|        null|1.167125153964067...|3.501333445955369E-4|5.235214708949962|\n",
      "|    min|00:00|                0.0|               982.0|               0.0|                                 20.0|                                 19.9|                                                26.0|                                                18.0|                            0.0|     N|   AM|      MANAUS|        A101|         -3.10361111|        -60.01638888|            48.79|\n",
      "|    max|23:00|               72.2|              1037.7|            6482.0|                                 41.4|                                 37.3|                                               100.0|                                               100.0|                            7.9|     N|   AM|      MANAUS|        A101|         -3.10333333|        -60.01555555|            61.25|\n",
      "+-------+-----+-------------------+--------------------+------------------+-------------------------------------+-------------------------------------+----------------------------------------------------+----------------------------------------------------+-------------------------------+------+-----+------------+------------+--------------------+--------------------+-----------------+\n",
      "\n"
     ]
    }
   ],
   "source": [
    "df4.describe().show()"
   ]
  },
  {
   "cell_type": "code",
   "execution_count": 81,
   "metadata": {},
   "outputs": [
    {
     "data": {
      "text/plain": [
       "6182"
      ]
     },
     "execution_count": 81,
     "metadata": {},
     "output_type": "execute_result"
    }
   ],
   "source": [
    "#df4.select(df4.Date).distinct().count()"
   ]
  },
  {
   "cell_type": "code",
   "execution_count": 170,
   "metadata": {},
   "outputs": [],
   "source": [
    "from pyspark.sql.functions import col, count\n",
    "grouped_df = df4.groupBy(\"Date\").agg(count(\"*\").alias(\"Count\"))\n"
   ]
  },
  {
   "cell_type": "code",
   "execution_count": 171,
   "metadata": {},
   "outputs": [
    {
     "name": "stdout",
     "output_type": "stream",
     "text": [
      "+----------+-----+\n",
      "|      Date|Count|\n",
      "+----------+-----+\n",
      "|2005-01-16|    3|\n",
      "|2005-06-06|    2|\n",
      "|2007-11-15|    4|\n",
      "|2004-07-12|    2|\n",
      "|2004-07-27|    2|\n",
      "+----------+-----+\n",
      "only showing top 5 rows\n",
      "\n"
     ]
    }
   ],
   "source": [
    "df5 = grouped_df.filter(grouped_df.Count<6)\n",
    "df5.show(5)"
   ]
  },
  {
   "cell_type": "code",
   "execution_count": 91,
   "metadata": {},
   "outputs": [
    {
     "data": {
      "text/plain": [
       "129"
      ]
     },
     "execution_count": 91,
     "metadata": {},
     "output_type": "execute_result"
    }
   ],
   "source": [
    "df5.count()"
   ]
  },
  {
   "cell_type": "code",
   "execution_count": 90,
   "metadata": {},
   "outputs": [
    {
     "data": {
      "text/plain": [
       "0"
      ]
     },
     "execution_count": 90,
     "metadata": {},
     "output_type": "execute_result"
    }
   ],
   "source": [
    "# values_to_filter = df5.select(\"Date\")\n",
    "\n",
    "# # Remove rows from df1 that match column values in df2\n",
    "# result_df = df4.filter(~col(\"Date\").isin(values_to_filter[\"Date\"]))\n",
    "\n",
    "# # Show the resulting DataFrame\n",
    "# result_df.show()\n",
    "\n",
    "# #values_to_filter.show()"
   ]
  },
  {
   "cell_type": "code",
   "execution_count": 172,
   "metadata": {},
   "outputs": [
    {
     "name": "stdout",
     "output_type": "stream",
     "text": [
      "+----------+-----+-------------------+--------------------+---------------+-------------------------------------+-------------------------------------+----------------------------------------------------+----------------------------------------------------+-------------------------------+------+-----+------------+------------+------------+------------+---------+\n",
      "|      Date| Time|Total_Precipitation|Atmospheric_Pressure|Solar_Radiation|Maximum_Temperature_For_The_Last_Hour|Minimum_Temperature_For_The_Last_Hour|Maximum_Relative_Humid_Temperature_For_The_Last_Hour|Minimum_Relative_Humid_Temperature_For_The_Last_Hour|Wind_speed_In_Metres_Per_Second|Region|State|Station_Name|Station_Code|    Latitude|   Longitude|Elevation|\n",
      "+----------+-----+-------------------+--------------------+---------------+-------------------------------------+-------------------------------------+----------------------------------------------------+----------------------------------------------------+-------------------------------+------+-----+------------+------------+------------+------------+---------+\n",
      "|2000-07-03|10:00|                0.0|               890.6|            9.0|                                 15.1|                                 14.7|                                                80.0|                                                78.0|                            1.9|    CO|   DF|    BRASILIA|        A001|-15.78944444|-47.92583332|  1159.54|\n",
      "|2000-07-03|11:00|                0.0|               891.2|          401.0|                                 17.3|                                 15.1|                                                80.0|                                                72.0|                            2.2|    CO|   DF|    BRASILIA|        A001|-15.78944444|-47.92583332|  1159.54|\n",
      "|2000-07-03|12:00|                0.0|               891.7|          871.0|                                 18.6|                                 17.1|                                                74.0|                                                67.0|                            3.2|    CO|   DF|    BRASILIA|        A001|-15.78944444|-47.92583332|  1159.54|\n",
      "|2000-07-03|13:00|                0.0|               891.6|         1787.0|                                 20.4|                                 18.7|                                                67.0|                                                59.0|                            5.0|    CO|   DF|    BRASILIA|        A001|-15.78944444|-47.92583332|  1159.54|\n",
      "|2000-07-03|14:00|                0.0|               891.5|         2311.0|                                 21.8|                                 19.8|                                                61.0|                                                51.0|                            3.9|    CO|   DF|    BRASILIA|        A001|-15.78944444|-47.92583332|  1159.54|\n",
      "+----------+-----+-------------------+--------------------+---------------+-------------------------------------+-------------------------------------+----------------------------------------------------+----------------------------------------------------+-------------------------------+------+-----+------------+------------+------------+------------+---------+\n",
      "only showing top 5 rows\n",
      "\n"
     ]
    }
   ],
   "source": [
    "from pyspark.sql.functions import col\n",
    "\n",
    "# Assuming df4 and df5 are your DataFrames\n",
    "values_to_filter = df5.select(\"Date\")\n",
    "\n",
    "# Perform a left anti join to keep only rows from df4 where Date has no match in values_to_filter\n",
    "result_df = df4.join(values_to_filter, \"Date\", \"left_anti\")\n",
    "\n",
    "# Show the resulting DataFrame\n",
    "result_df.show(5)"
   ]
  },
  {
   "cell_type": "code",
   "execution_count": 173,
   "metadata": {},
   "outputs": [
    {
     "data": {
      "text/plain": [
       "89974"
      ]
     },
     "execution_count": 173,
     "metadata": {},
     "output_type": "execute_result"
    }
   ],
   "source": [
    "result_df.count()"
   ]
  },
  {
   "cell_type": "code",
   "execution_count": 94,
   "metadata": {},
   "outputs": [
    {
     "data": {
      "text/plain": [
       "6053"
      ]
     },
     "execution_count": 94,
     "metadata": {},
     "output_type": "execute_result"
    }
   ],
   "source": [
    "\n",
    "from pyspark.sql.functions import col, count\n",
    "grouped_df = result_df.groupBy(\"Date\").agg(count(\"*\").alias(\"Count\"))\n",
    "\n",
    "df6 = grouped_df.filter(grouped_df.Count>=6)\n",
    "df6.count()"
   ]
  },
  {
   "cell_type": "code",
   "execution_count": 95,
   "metadata": {},
   "outputs": [
    {
     "name": "stdout",
     "output_type": "stream",
     "text": [
      "+----------+-----+\n",
      "|      Date|Count|\n",
      "+----------+-----+\n",
      "|2000-07-03|   11|\n",
      "|2000-12-26|   13|\n",
      "|2001-05-16|   12|\n",
      "|2002-06-20|   10|\n",
      "|2002-12-06|    6|\n",
      "|2002-12-25|   10|\n",
      "|2006-05-17|   12|\n",
      "|2007-04-20|   12|\n",
      "|2007-11-15|   13|\n",
      "|2007-11-23|   13|\n",
      "|2010-08-11|   12|\n",
      "|2012-04-17|   12|\n",
      "|2012-10-06|   13|\n",
      "|2013-01-22|   13|\n",
      "|2013-03-26|   12|\n",
      "|2013-05-21|   13|\n",
      "|2013-09-09|   12|\n",
      "|2014-09-26|   13|\n",
      "|2014-11-12|   13|\n",
      "|2015-03-09|   16|\n",
      "+----------+-----+\n",
      "only showing top 20 rows\n",
      "\n"
     ]
    }
   ],
   "source": [
    "df6.show()"
   ]
  },
  {
   "cell_type": "code",
   "execution_count": 89,
   "metadata": {},
   "outputs": [
    {
     "name": "stdout",
     "output_type": "stream",
     "text": [
      "root\n",
      " |-- Date: date (nullable = true)\n",
      " |-- Time: string (nullable = true)\n",
      " |-- Total_Precipitation: double (nullable = true)\n",
      " |-- Atmospheric_Pressure: double (nullable = true)\n",
      " |-- Solar_Radiation: double (nullable = true)\n",
      " |-- Maximum_Temperature_For_The_Last_Hour: double (nullable = true)\n",
      " |-- Minimum_Temperature_For_The_Last_Hour: double (nullable = true)\n",
      " |-- Maximum_Relative_Humid_Temperature_For_The_Last_Hour: double (nullable = true)\n",
      " |-- Minimum_Relative_Humid_Temperature_For_The_Last_Hour: double (nullable = true)\n",
      " |-- Wind_speed_In_Metres_Per_Second: double (nullable = true)\n",
      " |-- Region: string (nullable = true)\n",
      " |-- State: string (nullable = true)\n",
      " |-- Station_Name: string (nullable = true)\n",
      " |-- Station_Code: string (nullable = true)\n",
      " |-- Latitude: double (nullable = true)\n",
      " |-- Longitude: double (nullable = true)\n",
      " |-- Elevation: double (nullable = true)\n",
      "\n"
     ]
    }
   ],
   "source": [
    "df4.printSchema()"
   ]
  },
  {
   "cell_type": "code",
   "execution_count": 174,
   "metadata": {},
   "outputs": [],
   "source": [
    "output_csv_path = \"final_weather_data_centralwest\"\n",
    "df_transformed_single_partition = result_df.coalesce(1)\n",
    "\n",
    "# Write the DataFrame to a single CSV file\n",
    "df_transformed_single_partition.write.mode(\"overwrite\").csv(output_csv_path, header=True, compression=\"none\")"
   ]
  },
  {
   "cell_type": "code",
   "execution_count": null,
   "metadata": {},
   "outputs": [],
   "source": []
  }
 ],
 "metadata": {
  "application/vnd.databricks.v1+notebook": {
   "dashboards": [],
   "language": "python",
   "notebookMetadata": {
    "pythonIndentUnit": 4
   },
   "notebookName": "Brazil_Weather_Analysis",
   "widgets": {}
  },
  "kernelspec": {
   "display_name": "Python 3",
   "language": "python",
   "name": "python3"
  },
  "language_info": {
   "codemirror_mode": {
    "name": "ipython",
    "version": 3
   },
   "file_extension": ".py",
   "mimetype": "text/x-python",
   "name": "python",
   "nbconvert_exporter": "python",
   "pygments_lexer": "ipython3",
   "version": "3.6.9"
  }
 },
 "nbformat": 4,
 "nbformat_minor": 1
}
